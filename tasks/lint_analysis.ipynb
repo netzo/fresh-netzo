{
 "cells": [
  {
   "cell_type": "code",
   "execution_count": 18,
   "metadata": {},
   "outputs": [],
   "source": [
    "import $ from \"https://deno.land/x/dax@0.39.1/mod.ts\";\n",
    "\n",
    "const test = await $`deno lint --json`.stdout(\"piped\").stderr(\"piped\")\n",
    "  .captureCombined().noThrow();\n",
    "\n",
    "export interface Diagnostic {\n",
    "  range: {\n",
    "    start: { line: number; col: number; bytePos: number };\n",
    "    end: { line: number; col: number; bytePos: number };\n",
    "  };\n",
    "  filename: string;\n",
    "  message: string;\n",
    "  code: string;\n",
    "  hint: string;\n",
    "}\n",
    "\n",
    "export interface LintResults {\n",
    "  diagnostics: Diagnostic[];\n",
    "}\n",
    "\n",
    "const jsonOutput: LintResults = JSON.parse(test.combined);\n"
   ]
  },
  {
   "cell_type": "code",
   "execution_count": 17,
   "metadata": {},
   "outputs": [
    {
     "name": "stdout",
     "output_type": "stream",
     "text": [
      "no-explicit-any: 65\n"
     ]
    }
   ],
   "source": [
    "interface Diagnostic {\n",
    "  range: {\n",
    "    start: { line: number; col: number; bytePos: number };\n",
    "    end: { line: number; col: number; bytePos: number };\n",
    "  };\n",
    "  filename: string;\n",
    "  message: string;\n",
    "  code: string;\n",
    "  hint: string;\n",
    "}\n",
    "\n",
    "interface LintResults {\n",
    "  diagnostics: Diagnostic[];\n",
    "}\n",
    "\n",
    "const groupedByCode = (jsonOutput as LintResults).diagnostics.reduce(\n",
    "  (acc, diagnostic) => {\n",
    "    const { code } = diagnostic;\n",
    "    if (!acc[code]) {\n",
    "      acc[code] = [];\n",
    "    }\n",
    "    acc[code].push(diagnostic);\n",
    "    return acc;\n",
    "  },\n",
    "  {} as Record<string, Diagnostic[]>,\n",
    ");\n",
    "\n",
    "for (const [code, errors] of Object.entries(groupedByCode)) {\n",
    "  console.log(`${code}: ${errors.length}`);\n",
    "}\n"
   ]
  },
  {
   "cell_type": "code",
   "execution_count": 16,
   "metadata": {},
   "outputs": [
    {
     "name": "stdout",
     "output_type": "stream",
     "text": [
      "{\n",
      "  \"no-explicit-any\": {\n",
      "    files: [\n",
      "      \"lib/components/blocks/form/fields/array.tsx\",\n",
      "      \"lib/components/blocks/form/fields/enum.tsx\",\n",
      "      \"lib/components/blocks/form/fields/object.tsx\",\n",
      "      \"lib/components/blocks/form/fields/radio-group.tsx\",\n",
      "      \"lib/components/blocks/form/types.ts\",\n",
      "      \"lib/components/blocks/form/utils.ts\",\n",
      "      \"lib/hooks/use-ui.ts\",\n",
      "      \"lib/plugins/api/errors.ts\",\n",
      "      \"lib/plugins/api/utils.ts\"\n",
      "    ],\n",
      "    count: 65\n",
      "  }\n",
      "}\n"
     ]
    }
   ],
   "source": [
    "import { toFileUrl } from \"std/path/mod.ts\";\n",
    "\n",
    "interface Diagnostic {\n",
    "  range: {\n",
    "    start: { line: number; col: number; bytePos: number };\n",
    "    end: { line: number; col: number; bytePos: number };\n",
    "  };\n",
    "  filename: string;\n",
    "  message: string;\n",
    "  code: string;\n",
    "  hint: string;\n",
    "}\n",
    "\n",
    "interface LintResults {\n",
    "  diagnostics: Diagnostic[];\n",
    "}\n",
    "\n",
    "const cwd = new URL(\"./\", toFileUrl(Deno.cwd())).pathname;\n",
    "\n",
    "const filenamesAndCountsByCode: Record<\n",
    "  string,\n",
    "  { files: string[]; count: number }\n",
    "> = Object.keys(groupedByCode).reduce((acc, code) => {\n",
    "  const diagnostics = groupedByCode[code];\n",
    "  const filenames = diagnostics.map((diagnostic) =>\n",
    "    diagnostic.filename.replace(cwd, \"\")\n",
    "  );\n",
    "\n",
    "  const count = diagnostics.length;\n",
    "\n",
    "  const uniqueFilenames = [...new Set(filenames)];\n",
    "\n",
    "  acc[code] = {\n",
    "    files: uniqueFilenames,\n",
    "    count: count,\n",
    "  };\n",
    "\n",
    "  return acc;\n",
    "}, {} as Record<string, { files: string[]; count: number }>);\n",
    "\n",
    "console.log(filenamesAndCountsByCode);\n"
   ]
  }
 ],
 "metadata": {
  "kernelspec": {
   "display_name": "Deno",
   "language": "typescript",
   "name": "deno"
  },
  "language_info": {
   "file_extension": ".ts",
   "mimetype": "text/x.typescript",
   "name": "typescript",
   "nb_converter": "script",
   "pygments_lexer": "typescript",
   "version": "5.3.3"
  }
 },
 "nbformat": 4,
 "nbformat_minor": 2
}
